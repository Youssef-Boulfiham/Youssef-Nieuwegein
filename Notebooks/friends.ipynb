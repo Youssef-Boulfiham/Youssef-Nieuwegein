{
 "cells": [
  {
   "cell_type": "code",
   "execution_count": null,
   "id": "991aee56-3191-424c-86ea-2a0626feb2d3",
   "metadata": {},
   "outputs": [],
   "source": []
  },
  {
   "cell_type": "code",
   "execution_count": 3,
   "id": "0209c8cd-062a-45fb-9b85-6be9b215be44",
   "metadata": {},
   "outputs": [],
   "source": [
    "import matplotlib.pyplot as plt\n",
    "import numpy as np\n",
    "from collections import defaultdict"
   ]
  },
  {
   "cell_type": "code",
   "execution_count": 4,
   "id": "2f29b1bb-5fb8-4354-be81-eb19039c0a88",
   "metadata": {},
   "outputs": [],
   "source": [
    "    def set_positions(self):\n",
    "        \"\"\"\n",
    "        Processes collision layers and stores valid positions, ensuring agents are placed\n",
    "        in horizontal pairs along the same y-coordinate.\n",
    "        \"\"\"\n",
    "        for color in [\"red\", \"green\", \"blue\", \"red dark\"]:\n",
    "            layer_collision = np.loadtxt(self.root + f\"/Data/Input/collisions/['{color}'].txt\", dtype=int)\n",
    "\n",
    "            # Step 1: Collect all valid grid-aligned positions (x%32=0, y%16=0)\n",
    "            positions_valid = [\n",
    "                (x, y)\n",
    "                for y in range(layer_collision.shape[0])\n",
    "                for x in range(layer_collision.shape[1])\n",
    "                if not layer_collision[y, x] and x % 32 == 0 and y % 16 == 0\n",
    "            ]\n",
    "\n",
    "            # Step 2: Ensure pairing happens **horizontally** by grouping positions by y-coordinate\n",
    "            y_groups = defaultdict(list)\n",
    "            for x, y in positions_valid:\n",
    "                y_groups[y].append((x, y))  # Group by y-coordinate\n",
    "\n",
    "            positions_filtered = []\n",
    "            for y in sorted(y_groups.keys()):  # Process row by row\n",
    "                y_groups[y].sort()  # Ensure left-to-right order\n",
    "\n",
    "                # Ensure pairs are formed **horizontally** by taking two at a time\n",
    "                while len(y_groups[y]) >= 2:\n",
    "                    positions_filtered.append(y_groups[y].pop(0))  # Take the leftmost\n",
    "                    positions_filtered.append(y_groups[y].pop(0))  # Take the next one on the right\n",
    "\n",
    "            # Step 3: Sort positions **left to right, row by row**\n",
    "            positions_filtered = positions_filtered.sort(key=lambda pos: (pos[1], pos[0]))\n",
    "\n",
    "            # Step 4: Write filtered positions to file\n",
    "            with open(self.root + f\"/Data/Input/coordinates/{color}.txt\", \"w\") as file:\n",
    "                json.dump(positions_filtered, file)"
   ]
  },
  {
   "cell_type": "code",
   "execution_count": 5,
   "id": "8ece9d27-3dba-4645-aa11-842776eba423",
   "metadata": {},
   "outputs": [
    {
     "ename": "NameError",
     "evalue": "name 'x_vals' is not defined",
     "output_type": "error",
     "traceback": [
      "\u001b[0;31m---------------------------------------------------------------------------\u001b[0m",
      "\u001b[0;31mNameError\u001b[0m                                 Traceback (most recent call last)",
      "Cell \u001b[0;32mIn[5], line 2\u001b[0m\n\u001b[1;32m      1\u001b[0m fig, ax \u001b[38;5;241m=\u001b[39m plt\u001b[38;5;241m.\u001b[39msubplots(figsize\u001b[38;5;241m=\u001b[39m(\u001b[38;5;241m5\u001b[39m, \u001b[38;5;241m7\u001b[39m))  \u001b[38;5;66;03m# 500x700 scale in inches (assuming 100 dpi per inch)\u001b[39;00m\n\u001b[0;32m----> 2\u001b[0m ax\u001b[38;5;241m.\u001b[39mscatter(x_vals, y_vals, color\u001b[38;5;241m=\u001b[39m\u001b[38;5;124m'\u001b[39m\u001b[38;5;124mblue\u001b[39m\u001b[38;5;124m'\u001b[39m, marker\u001b[38;5;241m=\u001b[39m\u001b[38;5;124m'\u001b[39m\u001b[38;5;124mo\u001b[39m\u001b[38;5;124m'\u001b[39m, label\u001b[38;5;241m=\u001b[39m\u001b[38;5;124m\"\u001b[39m\u001b[38;5;124mFiltered Positions\u001b[39m\u001b[38;5;124m\"\u001b[39m)\n\u001b[1;32m      4\u001b[0m \u001b[38;5;66;03m# Formatting\u001b[39;00m\n\u001b[1;32m      5\u001b[0m ax\u001b[38;5;241m.\u001b[39mset_xlim(\u001b[38;5;241m0\u001b[39m, \u001b[38;5;241m500\u001b[39m)\n",
      "\u001b[0;31mNameError\u001b[0m: name 'x_vals' is not defined"
     ]
    },
    {
     "data": {
      "image/png": "[encoded data removed]",
      "text/plain": [
       "<Figure size 500x700 with 1 Axes>"
      ]
     },
     "metadata": {},
     "output_type": "display_data"
    }
   ],
   "source": [
    "\n",
    "fig, ax = plt.subplots(figsize=(5, 7))  # 500x700 scale in inches (assuming 100 dpi per inch)\n",
    "ax.scatter(x_vals, y_vals, color='blue', marker='o', label=\"Filtered Positions\")\n",
    "\n",
    "# Formatting\n",
    "ax.set_xlim(0, 500)\n",
    "ax.set_ylim(700, 0)  # Inverting y-axis to match grid convention (top-left origin)\n",
    "ax.set_xlabel(\"X Position\")\n",
    "ax.set_ylabel(\"Y Position\")\n",
    "ax.set_title(\"Filtered Positions on 500x700 Map\")\n",
    "ax.legend()\n",
    "ax.grid(True)\n",
    "\n",
    "# Show plot\n",
    "plt.show()"
   ]
  }
 ],
 "metadata": {
  "kernelspec": {
   "display_name": "Python 3 (ipykernel)",
   "language": "python",
   "name": "python3"
  },
  "language_info": {
   "codemirror_mode": {
    "name": "ipython",
    "version": 3
   },
   "file_extension": ".py",
   "mimetype": "text/x-python",
   "name": "python",
   "nbconvert_exporter": "python",
   "pygments_lexer": "ipython3",
   "version": "3.11.7"
  }
 },
 "nbformat": 4,
 "nbformat_minor": 5
}
