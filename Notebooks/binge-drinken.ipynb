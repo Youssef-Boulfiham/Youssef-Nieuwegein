{
 "cells": [
  {
   "cell_type": "code",
   "execution_count": null,
   "id": "initial_id",
   "metadata": {
    "collapsed": true
   },
   "outputs": [],
   "source": [
    "import random\n",
    "\n",
    "threshold = 36  # 36% chance\n",
    "print(threshold)\n",
    "\n",
    "yes, no = 0, 0\n",
    "for i in range(24 * 3):  # 24 days and 3 players\n",
    "    rn = round(random.uniform(1, 100), 1)  # Generate a random float with one decimal\n",
    "    if rn <= threshold:\n",
    "        yes += 1\n",
    "    else:\n",
    "        no += 1\n",
    "\n",
    "print(f\"Yes: {yes}, No: {no}\")\n"
   ]
  }
 ],
 "metadata": {
  "kernelspec": {
   "display_name": "Python 3",
   "language": "python",
   "name": "python3"
  },
  "language_info": {
   "codemirror_mode": {
    "name": "ipython",
    "version": 2
   },
   "file_extension": ".py",
   "mimetype": "text/x-python",
   "name": "python",
   "nbconvert_exporter": "python",
   "pygments_lexer": "ipython2",
   "version": "2.7.6"
  }
 },
 "nbformat": 4,
 "nbformat_minor": 5
}
