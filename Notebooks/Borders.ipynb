{
 "cells": [
  {
   "cell_type": "markdown",
   "id": "24a1e868-0836-46b4-a636-2757006a4baf",
   "metadata": {},
   "source": [
    "# Collisions"
   ]
  },
  {
   "cell_type": "code",
   "execution_count": 1,
   "id": "bb693888-f03d-43ce-a59d-03f22d92ea7f",
   "metadata": {
    "ExecuteTime": {
     "end_time": "2025-03-29T14:20:34.343297Z",
     "start_time": "2025-03-29T14:20:33.852797Z"
    }
   },
   "outputs": [],
   "source": [
    "\n",
    "import heapq\n",
    "import numpy as np\n",
    "import matplotlib.pyplot as plt\n",
    "from PIL import Image"
   ]
  },
  {
   "cell_type": "code",
   "execution_count": 145,
   "outputs": [],
   "source": [
    "import numpy as np\n",
    "import matplotlib.pyplot as plt\n",
    "\n",
    "class Visualisations:\n",
    "    def __init__(self):\n",
    "        pass\n",
    "\n",
    "    def plot(self, collision_layer):\n",
    "        print(\"Before transformation shape:\", collision_layer.shape)  # Debugging\n",
    "\n",
    "        # Correctly swap x and y axes\n",
    "        collision_layer = np.transpose(collision_layer)\n",
    "\n",
    "        print(\"After transformation shape:\", collision_layer.shape)  # Debugging\n",
    "\n",
    "        plt.figure(figsize=(10, 10))\n",
    "        plt.imshow(collision_layer, cmap=\"gray\", origin=\"upper\")  # Corrected background\n",
    "        plt.title(\"Collision Layer\")\n",
    "        plt.colorbar(label=\"Collision (1 = Blocked, 0 = Free)\")\n",
    "        plt.xlabel(\"X-axis\")\n",
    "        plt.ylabel(\"Y-axis\")\n",
    "        plt.show()\n",
    "\n",
    "    def plot_path(self, collision_layer, path, start, goal):\n",
    "        print(\"Before transformation shape:\", collision_layer.shape)  # Debugging\n",
    "\n",
    "        # Correctly swap x and y axes\n",
    "        # collision_layer = np.transpose(collision_layer)\n",
    "        collision_layer = collision_layer\n",
    "\n",
    "        print(\"After transformation shape:\", collision_layer.shape)  # Debugging\n",
    "\n",
    "        plt.figure(figsize=(20, 20))\n",
    "        plt.imshow(collision_layer, cmap=\"gray\", origin=\"upper\")  # Background is now correctly swapped\n",
    "\n",
    "        if path:\n",
    "            path_x, path_y = zip(*path)  # Keep path in (x, y) order\n",
    "            plt.plot(path_x, path_y, marker=\"o\", color=\"blue\", markersize=5, linestyle=\"-\", label=\"Path\")\n",
    "\n",
    "        plt.scatter(start[0], start[1], color=\"green\", s=100, label=\"Start\")  # x first, y second\n",
    "        plt.scatter(goal[0], goal[1], color=\"red\", s=100, label=\"Goal\")  # x first, y second\n",
    "\n",
    "        plt.legend()\n",
    "        plt.title(\"Pathfinding Visualization\")\n",
    "        plt.xlabel(\"X-axis\")\n",
    "        plt.ylabel(\"Y-axis\")\n",
    "        plt.show()\n"
   ],
   "metadata": {
    "collapsed": false,
    "ExecuteTime": {
     "end_time": "2025-04-01T09:27:00.392226Z",
     "start_time": "2025-04-01T09:27:00.365736Z"
    }
   },
   "id": "a3236444e0dc5194"
  },
  {
   "cell_type": "code",
   "execution_count": 146,
   "outputs": [],
   "source": [
    "import heapq\n",
    "import numpy as np\n",
    "from PIL import Image  # Ensure you have PIL for image processing\n",
    "\n",
    "class AStar:\n",
    "    def __init__(self):\n",
    "        self.colors = {\n",
    "            \"black\": (0, 0, 0),\n",
    "            \"white\": (255, 255, 255),\n",
    "            \"thuis\": (255, 0, 0),\n",
    "            \"school\": (0, 255, 0),\n",
    "            \"vrije tijd\": (0, 0, 255),\n",
    "            \"grey\": (128, 128, 128),\n",
    "            \"brown\": (143, 110, 26),\n",
    "            \"vriend thuis\": (155, 0, 0)\n",
    "        }\n",
    "        self.collisions = self.set_collision()\n",
    "\n",
    "    def set_collision(self):\n",
    "        \"\"\"voor pathfinding\"\"\"\n",
    "        activity_combinations = [['thuis'], ['school'], ['vrije tijd'], ['vriend thuis'],\n",
    "                                 ['thuis', 'black', 'school'],\n",
    "                                 ['thuis', 'black', 'vrije tijd'],\n",
    "                                 ['thuis', 'black', 'vriend thuis'],\n",
    "                                 ['school', 'black', 'thuis'],\n",
    "                                 ['school', 'black', 'vrije tijd'],\n",
    "                                 ['school', 'black', 'vriend thuis'],\n",
    "                                 ['vrije tijd', 'black', 'thuis'],\n",
    "                                 ['vrije tijd', 'black', 'school'],\n",
    "                                 ['vrije tijd', 'black', 'vriend thuis'],\n",
    "                                 ['vriend thuis', 'black', 'thuis'],\n",
    "                                 ['vriend thuis', 'black', 'school'],\n",
    "                                 ['vriend thuis', 'black', 'vrije tijd']]\n",
    "        colissions = {}\n",
    "        for activity in activity_combinations:\n",
    "            colors_rgb = [self.colors[color] for color in activity]\n",
    "            path = \"/Users/youssefboulfiham/PycharmProjects/pythonProject/Youssef-Nieuwegein/graphics/enviroment_activity.png\"\n",
    "            image = Image.open(path).convert(\"RGB\")\n",
    "            width, height = image.size\n",
    "            pixels = image.load()\n",
    "            sprite = np.zeros((height, width), dtype=int)\n",
    "            for y in range(height):\n",
    "                for x in range(width):\n",
    "                    if pixels[x, y] not in colors_rgb:\n",
    "                        sprite[y, x] = 1\n",
    "            colissions[f\"{activity}\"] = sprite\n",
    "        return colissions\n",
    "\n",
    "    def search_path(self, start, end, activity):\n",
    "        collisions = self.collisions[activity]\n",
    "\n",
    "        open_set = []\n",
    "        heapq.heappush(open_set, (0, tuple(start)))  # Keep original input format\n",
    "        came_from = {}\n",
    "        g_score = {tuple(start): 0}\n",
    "        f_score = {tuple(start): self.heuristic(start, end)}\n",
    "\n",
    "        while open_set:\n",
    "            _, current = heapq.heappop(open_set)\n",
    "\n",
    "            if current == tuple(end):  # Ensure end comparison works\n",
    "                path = []\n",
    "                while current in came_from:\n",
    "                    path.append(list(current))  # Maintain original format (y, x)\n",
    "                    current = came_from[current]\n",
    "                path.append(list(start))  \n",
    "                return path[::-1]\n",
    "\n",
    "            for neighbor in self.get_neighbors(current, collisions):\n",
    "                tentative_g_score = g_score[current] + 1\n",
    "                if tuple(neighbor) not in g_score or tentative_g_score < g_score[tuple(neighbor)]:\n",
    "                    came_from[tuple(neighbor)] = current\n",
    "                    g_score[tuple(neighbor)] = tentative_g_score\n",
    "                    f_score[tuple(neighbor)] = tentative_g_score + self.heuristic(neighbor, end)\n",
    "                    heapq.heappush(open_set, (f_score[tuple(neighbor)], tuple(neighbor)))\n",
    "\n",
    "        print(f\"No path: {activity}, {start}, {end}\")\n",
    "        return [list(start)]\n",
    "\n",
    "    @staticmethod\n",
    "    def heuristic(a, b):\n",
    "        return abs(a[0] - b[0]) + abs(a[1] - b[1])  # Always evaluate [0] as x, [1] as y\n",
    "\n",
    "    @staticmethod\n",
    "    def get_neighbors(node, collisions):\n",
    "        height, width = collisions.shape  # Ensure correct shape ordering\n",
    "        x, y = node[0], node[1]  # Always use 0 as x, 1 as y\n",
    "        neighbors = []\n",
    "        directions = [(-1, 0), (1, 0), (0, -1), (0, 1)]\n",
    "        for dx, dy in directions:\n",
    "            nx, ny = x + dx, y + dy  # Maintain x-first order\n",
    "            if 0 <= nx < width and 0 <= ny < height and collisions[ny, nx] == 0:\n",
    "                neighbors.append([nx, ny])  # Maintain lists\n",
    "        \n",
    "        return neighbors  # Ensure it always returns a list, even if empty\n",
    "\n"
   ],
   "metadata": {
    "collapsed": false,
    "ExecuteTime": {
     "end_time": "2025-04-01T09:27:03.124161Z",
     "start_time": "2025-04-01T09:27:03.107016Z"
    }
   },
   "id": "3ae61885b50e353c"
  },
  {
   "cell_type": "code",
   "execution_count": 147,
   "outputs": [
    {
     "ename": "KeyError",
     "evalue": "\"['thuis', 'black', '']\"",
     "output_type": "error",
     "traceback": [
      "\u001B[0;31m---------------------------------------------------------------------------\u001B[0m",
      "\u001B[0;31mKeyError\u001B[0m                                  Traceback (most recent call last)",
      "Cell \u001B[0;32mIn[147], line 7\u001B[0m\n\u001B[1;32m      5\u001B[0m allowed_colors, start, goal \u001B[38;5;241m=\u001B[39m \u001B[38;5;124m\"\u001B[39m\u001B[38;5;124m[\u001B[39m\u001B[38;5;124m'\u001B[39m\u001B[38;5;124mthuis\u001B[39m\u001B[38;5;124m'\u001B[39m\u001B[38;5;124m, \u001B[39m\u001B[38;5;124m'\u001B[39m\u001B[38;5;124mblack\u001B[39m\u001B[38;5;124m'\u001B[39m\u001B[38;5;124m, \u001B[39m\u001B[38;5;124m'\u001B[39m\u001B[38;5;124m'\u001B[39m\u001B[38;5;124m]\u001B[39m\u001B[38;5;124m\"\u001B[39m, (\u001B[38;5;241m640\u001B[39m, \u001B[38;5;241m448\u001B[39m), (\u001B[38;5;241m352\u001B[39m, \u001B[38;5;241m176\u001B[39m)\n\u001B[1;32m      6\u001B[0m \u001B[38;5;66;03m# # allowed_colors, start, goal = ['green', 'black', 'red dark'], [368, 160], (292, 112)\u001B[39;00m\n\u001B[0;32m----> 7\u001B[0m path \u001B[38;5;241m=\u001B[39m \u001B[43mPathfinding\u001B[49m\u001B[38;5;241;43m.\u001B[39;49m\u001B[43msearch_path\u001B[49m\u001B[43m(\u001B[49m\u001B[43mstart\u001B[49m\u001B[38;5;241;43m=\u001B[39;49m\u001B[43mstart\u001B[49m\u001B[43m,\u001B[49m\n\u001B[1;32m      8\u001B[0m \u001B[43m                               \u001B[49m\u001B[43mend\u001B[49m\u001B[38;5;241;43m=\u001B[39;49m\u001B[43mgoal\u001B[49m\u001B[43m,\u001B[49m\n\u001B[1;32m      9\u001B[0m \u001B[43m                               \u001B[49m\u001B[43mactivity\u001B[49m\u001B[38;5;241;43m=\u001B[39;49m\u001B[43mallowed_colors\u001B[49m\u001B[43m)\u001B[49m\n\u001B[1;32m     10\u001B[0m Visualizer \u001B[38;5;241m=\u001B[39m Visualisations()\n\u001B[1;32m     11\u001B[0m Visualizer\u001B[38;5;241m.\u001B[39mplot_path(Pathfinding\u001B[38;5;241m.\u001B[39mcollisions[allowed_colors], path, start, goal)\n",
      "Cell \u001B[0;32mIn[146], line 50\u001B[0m, in \u001B[0;36mAStar.search_path\u001B[0;34m(self, start, end, activity)\u001B[0m\n\u001B[1;32m     49\u001B[0m \u001B[38;5;28;01mdef\u001B[39;00m \u001B[38;5;21msearch_path\u001B[39m(\u001B[38;5;28mself\u001B[39m, start, end, activity):\n\u001B[0;32m---> 50\u001B[0m     collisions \u001B[38;5;241m=\u001B[39m \u001B[38;5;28;43mself\u001B[39;49m\u001B[38;5;241;43m.\u001B[39;49m\u001B[43mcollisions\u001B[49m\u001B[43m[\u001B[49m\u001B[43mactivity\u001B[49m\u001B[43m]\u001B[49m\n\u001B[1;32m     52\u001B[0m     open_set \u001B[38;5;241m=\u001B[39m []\n\u001B[1;32m     53\u001B[0m     heapq\u001B[38;5;241m.\u001B[39mheappush(open_set, (\u001B[38;5;241m0\u001B[39m, \u001B[38;5;28mtuple\u001B[39m(start)))  \u001B[38;5;66;03m# Keep original input format\u001B[39;00m\n",
      "\u001B[0;31mKeyError\u001B[0m: \"['thuis', 'black', '']\""
     ]
    }
   ],
   "source": [
    "Pathfinding = AStar()\n",
    "# start, goal = (76, 256), (368, 256)\n",
    "# start, goal = (245, 285), (352, 384)\n",
    "# allowed_colors=['green', 'black', 'red dark']\n",
    "allowed_colors, start, goal = \"['thuis', 'black', '']\", (640, 448), (352, 176)\n",
    "# # allowed_colors, start, goal = ['green', 'black', 'red dark'], [368, 160], (292, 112)\n",
    "path = Pathfinding.search_path(start=start,\n",
    "                               end=goal,\n",
    "                               activity=allowed_colors)\n",
    "Visualizer = Visualisations()\n",
    "Visualizer.plot_path(Pathfinding.collisions[allowed_colors], path, start, goal)\n",
    "print(path)\n",
    "# Pathfinding.collisions[\"['thuis']\"]"
   ],
   "metadata": {
    "collapsed": false,
    "ExecuteTime": {
     "end_time": "2025-04-01T09:27:10.061279Z",
     "start_time": "2025-04-01T09:27:08.085458Z"
    }
   },
   "id": "7508ad43ac18aef4"
  },
  {
   "cell_type": "code",
   "execution_count": 5,
   "outputs": [
    {
     "ename": "NameError",
     "evalue": "name 'stop' is not defined",
     "output_type": "error",
     "traceback": [
      "\u001B[0;31m---------------------------------------------------------------------------\u001B[0m",
      "\u001B[0;31mNameError\u001B[0m                                 Traceback (most recent call last)",
      "Cell \u001B[0;32mIn[5], line 1\u001B[0m\n\u001B[0;32m----> 1\u001B[0m \u001B[43mstop\u001B[49m\n\u001B[1;32m      2\u001B[0m Pathfinding \u001B[38;5;241m=\u001B[39m AStar()\n\u001B[1;32m      3\u001B[0m school \u001B[38;5;241m=\u001B[39m (\u001B[38;5;241m600\u001B[39m, \u001B[38;5;241m400\u001B[39m)\n",
      "\u001B[0;31mNameError\u001B[0m: name 'stop' is not defined"
     ]
    }
   ],
   "source": [
    "stop\n",
    "Pathfinding = AStar()\n",
    "school = (600, 400)\n",
    "allowed_colors = [\"black\", \"blue\"]\n",
    "path = Pathfinding.search_path(start=weg_hart, goal=school, allowed_colors=allowed_colors)\n",
    "Visualizer = Visualisations()\n",
    "Visualizer.plot_path(f\"{allowed_colors}.txt\", path, weg_hart, school)"
   ],
   "metadata": {
    "collapsed": false,
    "ExecuteTime": {
     "end_time": "2025-03-22T13:15:57.669371Z",
     "start_time": "2025-03-22T13:15:57.409530Z"
    }
   },
   "id": "272d112edc8e7122"
  },
  {
   "cell_type": "code",
   "execution_count": null,
   "id": "cff4fa19-9a46-4bce-914f-dfa3bb26b253",
   "metadata": {
    "ExecuteTime": {
     "start_time": "2025-03-22T13:15:57.480627Z"
    }
   },
   "outputs": [],
   "source": [
    "class Visualisations:\n",
    "    def __init__(self):\n",
    "        pass\n",
    "        \n",
    "    def plot(self, collision_layer):\n",
    "        plt.figure(figsize=(10, 10))\n",
    "        plt.imshow(collision_layer, cmap=\"gray\", origin=\"upper\")  \n",
    "        plt.title(\"Collision Layer\")\n",
    "        plt.colorbar(label=\"Collision (1 = Blocked, 0 = Free)\")\n",
    "        plt.xlabel(\"X-axis\")\n",
    "        plt.ylabel(\"Y-axis\")\n",
    "        plt.show()\n",
    "\n",
    "    def plot_path(self, collisions, path, start, goal):\n",
    "    \n",
    "        plt.figure(figsize=(30, 90))\n",
    "        plt.imshow(collisions, cmap=\"gray\", origin=\"upper\")  \n",
    "    \n",
    "        if path:\n",
    "            path_y, path_x = zip(*path)\n",
    "            plt.plot(path_x, path_y, marker=\"o\", color=\"blue\", markersize=5, linestyle=\"-\", label=\"Path\")\n",
    "    \n",
    "        plt.scatter(start[1], start[0], color=\"green\", s=100, label=\"Start\")  \n",
    "        plt.scatter(goal[1], goal[0], color=\"red\", s=100, label=\"Goal\")  \n",
    "    \n",
    "        plt.legend()\n",
    "        plt.title(\"Pathfinding Visualization\")\n",
    "        plt.xlabel(\"X-axis\")\n",
    "        plt.ylabel(\"Y-axis\")\n",
    "        plt.show()\n"
   ]
  },
  {
   "cell_type": "code",
   "execution_count": null,
   "id": "9a622168-1e54-4b84-8c2a-a9beb613f065",
   "metadata": {
    "ExecuteTime": {
     "start_time": "2025-03-22T13:15:57.481776Z"
    }
   },
   "outputs": [],
   "source": [
    "Visualizer = Visualisations()\n",
    "path = \"['red'].txt\"\n",
    "# path = \"['black', 'blue'].txt\"\n",
    "load = np.loadtxt(path, dtype=int)\n",
    "Visualizer.plot(load)\n",
    "load.shape\n"
   ]
  },
  {
   "cell_type": "code",
   "execution_count": null,
   "id": "3491e2a4-2a72-49cf-9ed7-70ba93d2b72a",
   "metadata": {
    "ExecuteTime": {
     "start_time": "2025-03-22T13:15:57.482966Z"
    }
   },
   "outputs": [],
   "source": [
    "Pathfinding = AStar()\n",
    "Pathfinding.get_collision_layer([\"red\"])\n",
    "Visualizer = Visualisations()\n",
    "path = \"['red'].txt\"\n",
    "# path = \"['black', 'blue'].txt\"\n",
    "load = np.loadtxt(path, dtype=int)\n",
    "Visualizer.plot(load)\n",
    "load.shape"
   ]
  },
  {
   "cell_type": "code",
   "execution_count": null,
   "id": "4405035e7af11724",
   "metadata": {
    "collapsed": false,
    "ExecuteTime": {
     "start_time": "2025-03-22T13:15:57.483911Z"
    }
   },
   "outputs": [],
   "source": [
    "Pathfinding = AStar()\n",
    "school = (600, 400)\n",
    "thuis = (250, 100)\n",
    "back_alley = (190, 220)\n",
    "thuis_vriend = (380, 250)\n",
    "allowed_colors = [\"black\", \"red\"]\n",
    "path = Pathfinding.search_path(start=thuis, goal=back_alley, allowed_colors=allowed_colors)\n",
    "\n",
    "Visualizer = Visualisations()\n",
    "Visualizer.plot_path(f\"{allowed_colors}.txt\", path, thuis, back_alley)\n",
    "\n",
    "allowed_colors = [\"black\", \"red dark\"]\n",
    "path = Pathfinding.search_path(start=back_alley, goal=thuis_vriend, allowed_colors=allowed_colors)\n",
    "Visualizer.plot_path(f\"{allowed_colors}.txt\", path, back_alley, thuis_vriend)\n"
   ]
  },
  {
   "cell_type": "code",
   "execution_count": null,
   "id": "ee971c9e8a5ad10e",
   "metadata": {
    "collapsed": false,
    "ExecuteTime": {
     "start_time": "2025-03-22T13:15:57.485654Z"
    }
   },
   "outputs": [],
   "source": [
    "Pathfinding = AStar()\n",
    "school = (260, 330)\n",
    "thuis = (250, 100)\n",
    "back_alley = (190, 220)\n",
    "thuis_vriend = (380, 250)\n",
    "vrije_tijd = (600, 400)\n",
    "allowed_colors = [\"red\", \"black\", \"green\"]\n",
    "path = Pathfinding.search_path(start=thuis, goal=vrije_tijd, allowed_colors=allowed_colors)\n",
    "\n",
    "Visualizer = Visualisations()\n",
    "Visualizer.plot_path(f\"{allowed_colors}.txt\", path, thuis, vrije_tijd)"
   ]
  }
 ],
 "metadata": {
  "kernelspec": {
   "display_name": "Python 3 (ipykernel)",
   "language": "python",
   "name": "python3"
  },
  "language_info": {
   "codemirror_mode": {
    "name": "ipython",
    "version": 3
   },
   "file_extension": ".py",
   "mimetype": "text/x-python",
   "name": "python",
   "nbconvert_exporter": "python",
   "pygments_lexer": "ipython3",
   "version": "3.11.7"
  }
 },
 "nbformat": 4,
 "nbformat_minor": 5
}
