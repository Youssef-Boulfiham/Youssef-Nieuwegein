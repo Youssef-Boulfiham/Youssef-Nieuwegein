{
 "cells": [
  {
   "cell_type": "markdown",
   "id": "24a1e868-0836-46b4-a636-2757006a4baf",
   "metadata": {},
   "source": [
    "# Collisions"
   ]
  },
  {
   "cell_type": "code",
   "execution_count": 1,
   "id": "bb693888-f03d-43ce-a59d-03f22d92ea7f",
   "metadata": {
    "ExecuteTime": {
     "end_time": "2025-03-17T09:43:57.467621Z",
     "start_time": "2025-03-17T09:43:56.960340Z"
    }
   },
   "outputs": [],
   "source": [
    "\n",
    "import heapq\n",
    "import numpy as np\n",
    "import matplotlib.pyplot as plt\n",
    "from PIL import Image"
   ]
  },
  {
   "cell_type": "code",
   "execution_count": 2,
   "outputs": [],
   "source": [
    "class Visualisations:\n",
    "    def __init__(self):\n",
    "        pass\n",
    "        \n",
    "    def plot(self, collision_layer):\n",
    "        plt.figure(figsize=(10, 10))\n",
    "        plt.imshow(collision_layer, cmap=\"gray\", origin=\"upper\")  \n",
    "        plt.title(\"Collision Layer\")\n",
    "        plt.colorbar(label=\"Collision (1 = Blocked, 0 = Free)\")\n",
    "        plt.xlabel(\"X-axis\")\n",
    "        plt.ylabel(\"Y-axis\")\n",
    "        plt.show()\n",
    "\n",
    "    def plot_path(self, collision_layer_file, path, start, goal):\n",
    "        collision_layer = np.loadtxt(collision_layer_file)\n",
    "    \n",
    "        plt.figure(figsize=(20, 20))\n",
    "        plt.imshow(collision_layer, cmap=\"gray\", origin=\"upper\")  \n",
    "    \n",
    "        if path:\n",
    "            path_y, path_x = zip(*path)\n",
    "            plt.plot(path_x, path_y, marker=\"o\", color=\"blue\", markersize=5, linestyle=\"-\", label=\"Path\")\n",
    "    \n",
    "        plt.scatter(start[1], start[0], color=\"green\", s=100, label=\"Start\")  \n",
    "        plt.scatter(goal[1], goal[0], color=\"red\", s=100, label=\"Goal\")  \n",
    "    \n",
    "        plt.legend()\n",
    "        plt.title(\"Pathfinding Visualization\")\n",
    "        plt.xlabel(\"X-axis\")\n",
    "        plt.ylabel(\"Y-axis\")\n",
    "        plt.show()\n"
   ],
   "metadata": {
    "collapsed": false,
    "ExecuteTime": {
     "end_time": "2025-03-17T09:43:57.500284Z",
     "start_time": "2025-03-17T09:43:57.451464Z"
    }
   },
   "id": "a3236444e0dc5194"
  },
  {
   "cell_type": "code",
   "execution_count": 3,
   "outputs": [],
   "source": [
    "import heapq\n",
    "\n",
    "import numpy as np\n",
    "from PIL import Image\n",
    "# Let op!: current position moet tuple zijn\n",
    "\n",
    "\n",
    "class AStar:\n",
    "    def __init__(self):\n",
    "        pass\n",
    "\n",
    "    def search_path(self, start, goal, allowed_colors):\n",
    "        self.get_layer_collision(allowed_colors)\n",
    "        collisions = np.loadtxt(f\"{allowed_colors}.txt\", dtype=int)\n",
    "\n",
    "        open_set = []\n",
    "        heapq.heappush(open_set, (0, tuple(start)))  # Convert start to tuple\n",
    "        came_from = {}\n",
    "        g_score = {tuple(start): 0}  # Convert start to tuple\n",
    "        f_score = {tuple(start): self.heuristic(start, goal)}\n",
    "\n",
    "        while open_set:\n",
    "            _, current = heapq.heappop(open_set)\n",
    "\n",
    "            if current == tuple(goal):  # Ensure goal comparison matches tuple\n",
    "                path = []\n",
    "                while current in came_from:\n",
    "                    path.append(list(current))  # Convert back to list for consistency\n",
    "                    current = came_from[current]\n",
    "                path.append(list(start))  # Convert back to list\n",
    "                return path[::-1]\n",
    "\n",
    "            for neighbor in self.get_neighbors(current, collisions):\n",
    "                neighbor_tuple = tuple(neighbor)  # Convert to tuple for dict key\n",
    "                tentative_g_score = g_score[current] + 1\n",
    "                if neighbor_tuple not in g_score or tentative_g_score < g_score[neighbor_tuple]:\n",
    "                    came_from[neighbor_tuple] = current\n",
    "                    g_score[neighbor_tuple] = tentative_g_score\n",
    "                    f_score[neighbor_tuple] = tentative_g_score + self.heuristic(neighbor, goal)\n",
    "                    heapq.heappush(open_set, (f_score[neighbor_tuple], neighbor_tuple))\n",
    "\n",
    "        print(\"No path\", allowed_colors)\n",
    "        return [list(start)]\n",
    "\n",
    "    @staticmethod\n",
    "    def heuristic(a, b):\n",
    "        return abs(a[0] - b[0]) + abs(a[1] - b[1])\n",
    "\n",
    "    @staticmethod\n",
    "    def get_neighbors(node, collisions):\n",
    "        height, width = collisions.shape\n",
    "        y, x = node\n",
    "        neighbors = []\n",
    "        directions = [(-1, 0), (1, 0), (0, -1), (0, 1)]\n",
    "        for dy, dx in directions:\n",
    "            ny, nx = y + dy, x + dx\n",
    "            if 0 <= ny < height and 0 <= nx < width and collisions[ny, nx] == 0:\n",
    "                neighbors.append([ny, nx])  # Keep neighbors as lists\n",
    "        return neighbors\n",
    "\n",
    "    @staticmethod\n",
    "    def get_layer_collision(allowed_colors):\n",
    "        colors = {\n",
    "            \"blue\": (0, 0, 255),\n",
    "            \"black\": (0, 0, 0),\n",
    "            \"grey\": (128, 128, 128),\n",
    "            \"green\": (0, 255, 0),\n",
    "            \"brown\": (143, 110, 26),\n",
    "            \"red\": (255, 0, 0),\n",
    "            \"red dark\": (155, 0, 0)\n",
    "        }\n",
    "        allowed_colors_rgb = [colors[color] for color in allowed_colors]\n",
    "        image = Image.open(\n",
    "            \"/Users/youssefboulfiham/PycharmProjects/pythonProject/Youssef-Nieuwegein/graphics/enviroment_activity.png\").convert(\n",
    "            \"RGB\")\n",
    "        width, height = image.size\n",
    "        pixels = image.load()\n",
    "        collision_layer = np.zeros((height, width), dtype=int)\n",
    "        for y in range(height):\n",
    "            for x in range(width):\n",
    "                if pixels[x, y] not in allowed_colors_rgb:\n",
    "                    collision_layer[y, x] = 1  # Block the color\n",
    "        np.savetxt(f\"{allowed_colors}.txt\", collision_layer, fmt='%d')\n"
   ],
   "metadata": {
    "collapsed": false,
    "ExecuteTime": {
     "end_time": "2025-03-17T09:43:57.501545Z",
     "start_time": "2025-03-17T09:43:57.466273Z"
    }
   },
   "id": "3ae61885b50e353c"
  },
  {
   "cell_type": "code",
   "execution_count": 19,
   "outputs": [
    {
     "data": {
      "text/plain": "<Figure size 2000x2000 with 1 Axes>",
      "image/png": "[encoded data removed]"
     },
     "metadata": {},
     "output_type": "display_data"
    },
    {
     "name": "stdout",
     "output_type": "stream",
     "text": [
      "[[288, 416], [288, 415], [288, 414], [288, 413], [288, 412], [288, 411], [288, 410], [288, 409], [288, 408], [288, 407], [288, 406], [288, 405], [288, 404], [288, 403], [288, 402], [288, 401], [288, 400], [288, 399], [288, 398], [288, 397], [288, 396], [288, 395], [288, 394], [288, 393], [288, 392], [288, 391], [288, 390], [288, 389], [288, 388], [288, 387], [288, 386], [288, 385], [288, 384], [289, 384], [290, 384], [291, 384], [292, 384], [293, 384], [294, 384], [295, 384], [296, 384], [297, 384], [298, 384], [299, 384], [300, 384], [301, 384], [302, 384], [303, 384], [304, 384], [305, 384], [306, 384], [307, 384], [308, 384], [309, 384], [310, 384], [311, 384], [312, 384], [313, 384], [314, 384], [315, 384], [316, 384], [317, 384], [318, 384], [319, 384], [320, 384], [321, 384], [322, 384], [323, 384], [324, 384], [325, 384], [326, 384], [327, 384], [328, 384], [329, 384], [330, 384], [331, 384], [332, 384], [333, 384], [334, 384], [335, 384], [336, 384]]\n"
     ]
    }
   ],
   "source": [
    "Pathfinding = AStar()\n",
    "start, goal = (288, 416), (336, 384)\n",
    "# start, goal = (245, 285), (352, 384)\n",
    "allowed_colors=[\"green\"]\n",
    "path = Pathfinding.search_path(start=start,\n",
    "                               goal=goal,\n",
    "                               allowed_colors=allowed_colors)\n",
    "Visualizer = Visualisations()\n",
    "Visualizer.plot_path(f\"{allowed_colors}.txt\", path, start, goal)\n",
    "print(path)"
   ],
   "metadata": {
    "collapsed": false,
    "ExecuteTime": {
     "end_time": "2025-03-18T02:35:29.422048Z",
     "start_time": "2025-03-18T02:35:28.826832Z"
    }
   },
   "id": "7508ad43ac18aef4"
  },
  {
   "cell_type": "code",
   "execution_count": 5,
   "outputs": [
    {
     "ename": "NameError",
     "evalue": "name 'stop' is not defined",
     "output_type": "error",
     "traceback": [
      "\u001B[0;31m---------------------------------------------------------------------------\u001B[0m",
      "\u001B[0;31mNameError\u001B[0m                                 Traceback (most recent call last)",
      "Cell \u001B[0;32mIn[5], line 1\u001B[0m\n\u001B[0;32m----> 1\u001B[0m \u001B[43mstop\u001B[49m\n\u001B[1;32m      2\u001B[0m Pathfinding \u001B[38;5;241m=\u001B[39m AStar()\n\u001B[1;32m      3\u001B[0m school \u001B[38;5;241m=\u001B[39m (\u001B[38;5;241m600\u001B[39m, \u001B[38;5;241m400\u001B[39m)\n",
      "\u001B[0;31mNameError\u001B[0m: name 'stop' is not defined"
     ]
    }
   ],
   "source": [
    "stop\n",
    "Pathfinding = AStar()\n",
    "school = (600, 400)\n",
    "allowed_colors = [\"black\", \"blue\"]\n",
    "path = Pathfinding.search_path(start=weg_hart, goal=school, allowed_colors=allowed_colors)\n",
    "Visualizer = Visualisations()\n",
    "Visualizer.plot_path(f\"{allowed_colors}.txt\", path, weg_hart, school)"
   ],
   "metadata": {
    "collapsed": false,
    "ExecuteTime": {
     "end_time": "2025-03-17T09:43:58.621311Z",
     "start_time": "2025-03-17T09:43:58.100138Z"
    }
   },
   "id": "272d112edc8e7122"
  },
  {
   "cell_type": "code",
   "execution_count": null,
   "id": "cff4fa19-9a46-4bce-914f-dfa3bb26b253",
   "metadata": {
    "ExecuteTime": {
     "start_time": "2025-03-17T09:43:58.247747Z"
    }
   },
   "outputs": [],
   "source": [
    "class Visualisations:\n",
    "    def __init__(self):\n",
    "        pass\n",
    "        \n",
    "    def plot(self, collision_layer):\n",
    "        plt.figure(figsize=(10, 10))\n",
    "        plt.imshow(collision_layer, cmap=\"gray\", origin=\"upper\")  \n",
    "        plt.title(\"Collision Layer\")\n",
    "        plt.colorbar(label=\"Collision (1 = Blocked, 0 = Free)\")\n",
    "        plt.xlabel(\"X-axis\")\n",
    "        plt.ylabel(\"Y-axis\")\n",
    "        plt.show()\n",
    "\n",
    "    def plot_path(self, collision_layer_file, path, start, goal):\n",
    "        collision_layer = np.loadtxt(collision_layer_file)\n",
    "    \n",
    "        plt.figure(figsize=(30, 90))\n",
    "        plt.imshow(collision_layer, cmap=\"gray\", origin=\"upper\")  \n",
    "    \n",
    "        if path:\n",
    "            path_y, path_x = zip(*path)\n",
    "            plt.plot(path_x, path_y, marker=\"o\", color=\"blue\", markersize=5, linestyle=\"-\", label=\"Path\")\n",
    "    \n",
    "        plt.scatter(start[1], start[0], color=\"green\", s=100, label=\"Start\")  \n",
    "        plt.scatter(goal[1], goal[0], color=\"red\", s=100, label=\"Goal\")  \n",
    "    \n",
    "        plt.legend()\n",
    "        plt.title(\"Pathfinding Visualization\")\n",
    "        plt.xlabel(\"X-axis\")\n",
    "        plt.ylabel(\"Y-axis\")\n",
    "        plt.show()\n"
   ]
  },
  {
   "cell_type": "code",
   "execution_count": null,
   "id": "9a622168-1e54-4b84-8c2a-a9beb613f065",
   "metadata": {
    "ExecuteTime": {
     "start_time": "2025-03-17T09:43:58.249895Z"
    }
   },
   "outputs": [],
   "source": [
    "Visualizer = Visualisations()\n",
    "path = \"['red'].txt\"\n",
    "# path = \"['black', 'blue'].txt\"\n",
    "load = np.loadtxt(path, dtype=int)\n",
    "Visualizer.plot(load)\n",
    "load.shape\n"
   ]
  },
  {
   "cell_type": "code",
   "execution_count": null,
   "id": "3491e2a4-2a72-49cf-9ed7-70ba93d2b72a",
   "metadata": {
    "ExecuteTime": {
     "start_time": "2025-03-17T09:43:58.251537Z"
    }
   },
   "outputs": [],
   "source": [
    "Pathfinding = AStar()\n",
    "Pathfinding.get_collision_layer([\"red\"])\n",
    "Visualizer = Visualisations()\n",
    "path = \"['red'].txt\"\n",
    "# path = \"['black', 'blue'].txt\"\n",
    "load = np.loadtxt(path, dtype=int)\n",
    "Visualizer.plot(load)\n",
    "load.shape"
   ]
  },
  {
   "cell_type": "code",
   "execution_count": null,
   "id": "4405035e7af11724",
   "metadata": {
    "collapsed": false,
    "ExecuteTime": {
     "start_time": "2025-03-17T09:43:58.253481Z"
    }
   },
   "outputs": [],
   "source": [
    "Pathfinding = AStar()\n",
    "school = (600, 400)\n",
    "thuis = (250, 100)\n",
    "back_alley = (190, 220)\n",
    "thuis_vriend = (380, 250)\n",
    "allowed_colors = [\"black\", \"red\"]\n",
    "path = Pathfinding.search_path(start=thuis, goal=back_alley, allowed_colors=allowed_colors)\n",
    "\n",
    "Visualizer = Visualisations()\n",
    "Visualizer.plot_path(f\"{allowed_colors}.txt\", path, thuis, back_alley)\n",
    "\n",
    "allowed_colors = [\"black\", \"red dark\"]\n",
    "path = Pathfinding.search_path(start=back_alley, goal=thuis_vriend, allowed_colors=allowed_colors)\n",
    "Visualizer.plot_path(f\"{allowed_colors}.txt\", path, back_alley, thuis_vriend)\n"
   ]
  },
  {
   "cell_type": "code",
   "execution_count": null,
   "id": "ee971c9e8a5ad10e",
   "metadata": {
    "collapsed": false,
    "ExecuteTime": {
     "start_time": "2025-03-17T09:43:58.254853Z"
    }
   },
   "outputs": [],
   "source": [
    "Pathfinding = AStar()\n",
    "school = (260, 330)\n",
    "thuis = (250, 100)\n",
    "back_alley = (190, 220)\n",
    "thuis_vriend = (380, 250)\n",
    "vrije_tijd = (600, 400)\n",
    "allowed_colors = [\"red\", \"black\", \"green\"]\n",
    "path = Pathfinding.search_path(start=thuis, goal=vrije_tijd, allowed_colors=allowed_colors)\n",
    "\n",
    "Visualizer = Visualisations()\n",
    "Visualizer.plot_path(f\"{allowed_colors}.txt\", path, thuis, vrije_tijd)"
   ]
  }
 ],
 "metadata": {
  "kernelspec": {
   "display_name": "Python 3 (ipykernel)",
   "language": "python",
   "name": "python3"
  },
  "language_info": {
   "codemirror_mode": {
    "name": "ipython",
    "version": 3
   },
   "file_extension": ".py",
   "mimetype": "text/x-python",
   "name": "python",
   "nbconvert_exporter": "python",
   "pygments_lexer": "ipython3",
   "version": "3.11.7"
  }
 },
 "nbformat": 4,
 "nbformat_minor": 5
}
