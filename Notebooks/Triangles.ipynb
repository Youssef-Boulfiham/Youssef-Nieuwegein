{
 "cells": [
  {
   "cell_type": "code",
   "execution_count": 1,
   "id": "79724f1e-3721-41a4-b792-aa396fbd9b9f",
   "metadata": {},
   "outputs": [],
   "source": [
    "import numpy as np\n",
    "import matplotlib.pyplot as plt\n",
    "np.set_printoptions(threshold=np.inf)  # Ensure full array printing"
   ]
  },
  {
   "cell_type": "code",
   "execution_count": 242,
   "id": "75140e39-ca99-45c6-a9e9-0715c77df677",
   "metadata": {},
   "outputs": [
    {
     "data": {
      "image/png": "[encoded data removed]",
      "text/plain": [
       "<Figure size 1000x800 with 1 Axes>"
      ]
     },
     "metadata": {},
     "output_type": "display_data"
    }
   ],
   "source": [
    "lst = np.ones((300, 300), dtype=int)\n",
    "\n",
    "x = 224  # Initial number of columns to modify\n",
    "y = x // 2  # Calculate how many rows will be modified (160 // 2 = 80)\n",
    "for i in range(y):  # Iterate only the necessary number of rows\n",
    "    lst[i, :x] = 0  # Modify the first 'n' columns of row 'i'\n",
    "    x -= 2  # Reduce 'n' by 2\n",
    "\n",
    "y = 81\n",
    "for i in range(0, int(96/2)):\n",
    "    lst[y, :i*2] = 0\n",
    "    lst[176-i, :i*2] = 0\n",
    "    y+=1\n",
    "\n",
    "y = 145\n",
    "for i in range(0, int(128/2)):\n",
    "    lst[y, :i*2] = 0\n",
    "    lst[270-i, :i*2] = 0\n",
    "    y+=1\n",
    "\n",
    "x = 180\n",
    "for i in range(299, 209, -1): \n",
    "    lst[i, :x] = 0\n",
    "    x -= 2  # Reduce 'n' by 2\n",
    "\n",
    "x = 32\n",
    "for i in range(300-x):\n",
    "    lst[i, x:] = 0\n",
    "    x +=2\n",
    "\n",
    "y = 91\n",
    "for i in range(2, 70):\n",
    "    lst[y, -i*2:] = 0 \n",
    "    lst[228-i, -i*2:] = 0\n",
    "    y+=1\n",
    "\n",
    "x = 142\n",
    "for i in range(299, 228, -1): \n",
    "    lst[i, -x:] = 0\n",
    "    x -= 2  # Reduce 'n' by 2\n",
    "\n",
    "x, y = 100, 160\n",
    "w = 64\n",
    "for i in range(2, 32):\n",
    "    lst[y, x:x+w] = 0\n",
    "    y-=1\n",
    "    w-=4\n",
    "    x+=2\n",
    "w = 64\n",
    "x, y = 100, 160\n",
    "\n",
    "for i in range(32):\n",
    "    lst[y, x:x+w] = 0\n",
    "    w -=4\n",
    "    x +=2\n",
    "    y +=1\n",
    "\n",
    "x, y = 128, 174\n",
    "w = 64\n",
    "for i in range(2, 32):\n",
    "    lst[y, x:x+w] = 0\n",
    "    y-=1\n",
    "    w-=4\n",
    "    x+=2\n",
    "w = 64\n",
    "x, y = 128, 174\n",
    "for i in range(32):\n",
    "    lst[y, x:x+w] = 0\n",
    "    w -=4\n",
    "    x +=2\n",
    "    y +=1\n",
    "\n",
    "plt.figure(figsize=(10, 8))\n",
    "# Map 0 → Red ([255, 0, 0]), 1 → Green ([0, 255, 0])\n",
    "color_map = np.array([[255, 0, 0], [0, 255, 0]], dtype=np.uint8)  # 2 colors for 0 and 1\n",
    "plt.imshow(color_map[lst])\n",
    "plt.axis(\"off\")  # Hide axes for better visualization\n",
    "plt.show()"
   ]
  },
  {
   "cell_type": "code",
   "execution_count": null,
   "id": "865164e1-f625-486d-9ef2-15cd57fa258e",
   "metadata": {},
   "outputs": [],
   "source": []
  },
  {
   "cell_type": "code",
   "execution_count": 243,
   "id": "a0eefa4a-6293-43f3-a460-3d28217cc452",
   "metadata": {},
   "outputs": [],
   "source": [
    "np.savetxt(\"array.txt\", lst, fmt=\"%d\")"
   ]
  },
  {
   "cell_type": "code",
   "execution_count": null,
   "id": "8c893f8f-88e5-4107-81d5-345300536af8",
   "metadata": {},
   "outputs": [],
   "source": [
    "lst"
   ]
  },
  {
   "cell_type": "code",
   "execution_count": null,
   "id": "091898fd-c7f0-4f20-a2e0-fdbe5385d570",
   "metadata": {},
   "outputs": [],
   "source": [
    "lst[68, 20]\n",
    "type(lst)\n",
    "# np.sum(lst[1] == 1)"
   ]
  },
  {
   "cell_type": "code",
   "execution_count": null,
   "id": "b755b09f-2278-4128-a571-e16fc2928e2b",
   "metadata": {},
   "outputs": [],
   "source": []
  },
  {
   "cell_type": "code",
   "execution_count": null,
   "id": "98872fa4-02b6-4547-b909-0101c3c6979b",
   "metadata": {},
   "outputs": [],
   "source": [
    "x = 224\n",
    "x1 = x/2\n",
    "for i in range():"
   ]
  },
  {
   "cell_type": "code",
   "execution_count": null,
   "id": "59f96696-b91d-4b68-99a4-22a2ba5c5357",
   "metadata": {},
   "outputs": [],
   "source": []
  },
  {
   "cell_type": "code",
   "execution_count": null,
   "id": "edef016f-fa0e-47b7-92af-8de733f8431f",
   "metadata": {},
   "outputs": [],
   "source": [
    "lst1 = lst"
   ]
  },
  {
   "cell_type": "code",
   "execution_count": null,
   "id": "7ec8c3b0-8678-4df5-9a43-39c3a271135d",
   "metadata": {},
   "outputs": [],
   "source": [
    "176/16"
   ]
  },
  {
   "cell_type": "code",
   "execution_count": null,
   "id": "3f72ae3f-fc55-4f34-8827-57f634c4d71f",
   "metadata": {},
   "outputs": [],
   "source": [
    "lst = lst1\n",
    "a = 2\n",
    "y = 81\n",
    "for i in range(int(96/2)):\n",
    "    lst[y, :i*2] = 0 \n",
    "    y+=1"
   ]
  },
  {
   "cell_type": "code",
   "execution_count": null,
   "id": "dfcbc8c9-3b8b-4361-acde-d783e28d43a7",
   "metadata": {},
   "outputs": [],
   "source": []
  },
  {
   "cell_type": "code",
   "execution_count": null,
   "id": "2a5b8a35-2d40-4788-9afa-f09907124f6d",
   "metadata": {},
   "outputs": [],
   "source": [
    "plt.figure(figsize=(10, 8))\n",
    "# Map 0 → Red ([255, 0, 0]), 1 → Green ([0, 255, 0])\n",
    "color_map = np.array([[255, 0, 0], [0, 255, 0]], dtype=np.uint8)  # 2 colors for 0 and 1\n",
    "plt.imshow(color_map[lst])\n",
    "plt.axis(\"off\")  # Hide axes for better visualization\n",
    "plt.show()"
   ]
  },
  {
   "cell_type": "code",
   "execution_count": 87,
   "id": "19d547e4-ae94-4546-98ed-f00da73b2bf8",
   "metadata": {},
   "outputs": [
    {
     "name": "stdout",
     "output_type": "stream",
     "text": [
      "0\n",
      "16\n",
      "32\n",
      "48\n",
      "64\n",
      "80\n",
      "96\n",
      "112\n",
      "128\n",
      "144\n",
      "160\n",
      "176\n",
      "192\n",
      "208\n",
      "224\n"
     ]
    }
   ],
   "source": [
    "a = 16\n",
    "for i in range(15):\n",
    "    print(a*i)"
   ]
  }
 ],
 "metadata": {
  "kernelspec": {
   "display_name": "Python 3 (ipykernel)",
   "language": "python",
   "name": "python3"
  },
  "language_info": {
   "codemirror_mode": {
    "name": "ipython",
    "version": 3
   },
   "file_extension": ".py",
   "mimetype": "text/x-python",
   "name": "python",
   "nbconvert_exporter": "python",
   "pygments_lexer": "ipython3",
   "version": "3.11.7"
  }
 },
 "nbformat": 4,
 "nbformat_minor": 5
}
