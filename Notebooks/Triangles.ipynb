{
 "cells": [
  {
   "cell_type": "code",
   "execution_count": 6,
   "id": "79724f1e-3721-41a4-b792-aa396fbd9b9f",
   "metadata": {},
   "outputs": [
    {
     "data": {
      "text/plain": [
       "(2, 560000)"
      ]
     },
     "execution_count": 6,
     "metadata": {},
     "output_type": "execute_result"
    }
   ],
   "source": [
    "import numpy as np\n",
    "import matplotlib.pyplot as plt\n",
    "np.set_printoptions(threshold=np.inf)  # Ensure full array printing"
   ]
  },
  {
   "cell_type": "code",
   "execution_count": 16,
   "id": "75140e39-ca99-45c6-a9e9-0715c77df677",
   "metadata": {},
   "outputs": [],
   "source": [
    "lst = np.zeros((700, 800), dtype=int)\n",
    "n = 160  # Initial number of columns to modify\n",
    "max_rows = n // 2  # Calculate how many rows will be modified (160 // 2 = 80)\n",
    "\n",
    "for i in range(max_rows):  # Iterate only the necessary number of rows\n",
    "    lst[i, :n] = 1  # Modify the first 'n' columns of row 'i'\n",
    "    n -= 2  # Reduce 'n' by 2"
   ]
  },
  {
   "cell_type": "code",
   "execution_count": 17,
   "id": "865164e1-f625-486d-9ef2-15cd57fa258e",
   "metadata": {
    "scrolled": true
   },
   "outputs": [
    {
     "data": {
      "image/png": "[encoded data removed]",
      "text/plain": [
       "<Figure size 1000x800 with 1 Axes>"
      ]
     },
     "metadata": {},
     "output_type": "display_data"
    }
   ],
   "source": [
    "plt.figure(figsize=(10, 8))\n",
    "# Map 0 → Red ([255, 0, 0]), 1 → Green ([0, 255, 0])\n",
    "color_map = np.array([[255, 0, 0], [0, 255, 0]], dtype=np.uint8)  # 2 colors for 0 and 1\n",
    "plt.imshow(color_map[lst])\n",
    "plt.axis(\"off\")  # Hide axes for better visualization\n",
    "plt.show()"
   ]
  },
  {
   "cell_type": "code",
   "execution_count": 18,
   "id": "a0eefa4a-6293-43f3-a460-3d28217cc452",
   "metadata": {},
   "outputs": [],
   "source": [
    "np.savetxt(\"array.txt\", lst, fmt=\"%d\")"
   ]
  }
 ],
 "metadata": {
  "kernelspec": {
   "display_name": "Python 3 (ipykernel)",
   "language": "python",
   "name": "python3"
  },
  "language_info": {
   "codemirror_mode": {
    "name": "ipython",
    "version": 3
   },
   "file_extension": ".py",
   "mimetype": "text/x-python",
   "name": "python",
   "nbconvert_exporter": "python",
   "pygments_lexer": "ipython3",
   "version": "3.11.7"
  }
 },
 "nbformat": 4,
 "nbformat_minor": 5
}
